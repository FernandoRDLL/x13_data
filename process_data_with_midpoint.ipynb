{
 "cells": [
  {
   "cell_type": "code",
   "execution_count": 66,
   "id": "c61cab78-ca7e-4ace-a161-fbbe0b43a9f9",
   "metadata": {},
   "outputs": [],
   "source": [
    "import polars as pl\n",
    "import pandas as pd\n",
    "import numpy as np\n",
    "import pandas as pd\n",
    "import os\n",
    "from tqdm.notebook import tqdm\n",
    "\n",
    "def gen_spc_file_text(data_filename):\n",
    "    spc_text = r\"\"\"series{\n",
    "  file=\"\"\" + data_filename + r\"\"\"\n",
    "  period=12\n",
    "  format=datevalue\n",
    "}\n",
    "transform{\n",
    "  function=auto\n",
    "}\n",
    "x11{ save=d11 }\"\"\"\n",
    "    return spc_text\n",
    "def convert_leading_zeroes_to_nan(df):\n",
    "    def replace_leading_zeroes(series):\n",
    "        non_zero_found = False\n",
    "        new_series = []\n",
    "        for value in series:\n",
    "            if value != 0:\n",
    "                non_zero_found = True\n",
    "            if not non_zero_found and value == 0:\n",
    "                new_series.append(np.nan)\n",
    "            else:\n",
    "                new_series.append(value)\n",
    "        return pd.Series(new_series, index=series.index)\n",
    "    \n",
    "    return df.apply(replace_leading_zeroes, axis=0)\n",
    "    \n",
    "def list_txt_files(directory):\n",
    "    # List all files in the specified directory\n",
    "    files = os.listdir(directory)\n",
    "    # Filter and return only files that end with .txt\n",
    "    txt_files = [file for file in files if file.endswith('.txt')]\n",
    "    return txt_files\n",
    "def read_csv_and_prep_df(filename, midpoint = True):\n",
    "    df = pd.read_csv(filename)\n",
    "    df = convert_leading_zeroes_to_nan(df)\n",
    "    if midpoint:\n",
    "        for col in df.columns[2:]: df[col] = df[col].astype(float)\n",
    "        df.iloc[:, 2:] = df.iloc[:, 2:].replace(0., np.nan)\n",
    "        df = df.interpolate(method='linear', limit = 100, limit_area = 'inside')\n",
    "    df.columns = [i.replace(' - ', '__').replace(' ', '_') for i in df.columns]\n",
    "    return df\n",
    "def make_x13_files_from_df(df, folder):\n",
    "    os.system(f'mkdir -p {folder}')\n",
    "    for var in df.columns:\n",
    "        if var not in ['YEAR', 'MONTH']:\n",
    "            df[['YEAR', 'MONTH', var]].dropna().to_csv(f'{folder}{var}.txt', sep=' ', index=False, header=False)\n",
    "    for raw_data_file in list_txt_files(folder):\n",
    "        file = open(f'{folder}spec_' + raw_data_file[:-4] + '.spc', 'w')\n",
    "        file.write(gen_spc_file_text(raw_data_file))\n",
    "        file.close()\n",
    "def make_x13_files_from_csv(filename, folder, midpoint = True):\n",
    "    df = read_csv_and_prep_df(filename, midpoint = True)\n",
    "    make_x13_files_from_df(df, folder)"
   ]
  },
  {
   "cell_type": "code",
   "execution_count": 78,
   "id": "347a4c34-7e2d-4748-b5a8-4dd3203fab93",
   "metadata": {},
   "outputs": [],
   "source": []
  },
  {
   "cell_type": "code",
   "execution_count": 79,
   "id": "9cc5f968-1bb9-47c9-b701-f00ceb76109e",
   "metadata": {},
   "outputs": [
    {
     "data": {
      "text/plain": [
       "0"
      ]
     },
     "execution_count": 79,
     "metadata": {},
     "output_type": "execute_result"
    }
   ],
   "source": [
    "raw_data_file = 'raw_perms_series_1960_2024_vals.csv'\n",
    "target_folder = 'raw_perms_midpoint_1960_2024/'\n",
    "make_x13_files_from_csv(raw_data_file, target_folder)\n",
    "os.system(f'cp run_seasonal_adjustment.sh {target_folder}')\n",
    "os.system(f'cp x13as_html {target_folder}')\n",
    "os.system(f'chmod +x {target_folder}run_seasonal_adjustment.sh')\n",
    "os.system(f'chmod +x {target_folder}x13as_html')\n",
    "os.system(f'./run_seasonal_adjustment.sh')"
   ]
  },
  {
   "cell_type": "code",
   "execution_count": null,
   "id": "b4dc9ffb-9b0e-4d87-9619-3a72d293454c",
   "metadata": {},
   "outputs": [],
   "source": []
  }
 ],
 "metadata": {
  "kernelspec": {
   "display_name": "Python 3 (ipykernel)",
   "language": "python",
   "name": "python3"
  },
  "language_info": {
   "codemirror_mode": {
    "name": "ipython",
    "version": 3
   },
   "file_extension": ".py",
   "mimetype": "text/x-python",
   "name": "python",
   "nbconvert_exporter": "python",
   "pygments_lexer": "ipython3",
   "version": "3.12.2"
  }
 },
 "nbformat": 4,
 "nbformat_minor": 5
}
