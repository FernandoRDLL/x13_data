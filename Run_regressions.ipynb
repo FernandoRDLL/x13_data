{
 "cells": [
  {
   "cell_type": "code",
   "execution_count": 77,
   "id": "45384467-b764-4905-b638-febf1a029231",
   "metadata": {},
   "outputs": [],
   "source": [
    "from helpers_regs import *\n",
    "import pandas as pd\n",
    "import os"
   ]
  },
  {
   "cell_type": "code",
   "execution_count": 94,
   "id": "56f07f2c-8d86-4c16-b5d3-ac341de4b01c",
   "metadata": {},
   "outputs": [],
   "source": [
    "#General params\n",
    "name_mapping = {'vol_vwretd': 'crsp', 'vol_btreturn': 'bonds'}\n",
    "lag_list = [12, 9, 6, 3, 1]\n",
    "dummies = True\n",
    "date_var  = 'date'\n",
    "freq_d = 'q' # 'q' for quarterly or 'm' for monthly dummies\n",
    "alpha_test = 0.10 # 10% significance level\n",
    "error_mode = 'HAC' # 'HAC' or 'BTP'\n",
    "n_btsp = None\n",
    "replacements = {r'cvol_': '', 'gjr_': '', 'gar_': '', r' - (?:[SL]_)?MFH| - SFH': '', ' - TOT': ''}\n",
    "first_row_for_co = 'United States'\n",
    "cvol_data = 'cvols_x13_vals_pct_change_1960_2024.dta'\n",
    "crsp_data = 'CRSP_vol_040523.dta'\n",
    "bond_data = 'DOW_corp_TRbond_vol_051623.dta'\n",
    "#Table params\n",
    "save_table = True\n",
    "table_filename = 'regressions_midpoint_vals_1960_2024.csv'\n",
    "#Plot params\n",
    "save_plot_opt = True\n",
    "show_opt = False\n",
    "separation = True\n",
    "cols_ci = [f'LB ({100-100*alpha_test:.2f}% ci)',f'UB ({100-100*alpha_test:.2f}% ci)']\n",
    "plot_dir = 'Plots_midpoint_vals_1960_2024/'"
   ]
  },
  {
   "cell_type": "code",
   "execution_count": 95,
   "id": "2f90d9cc-080d-44d1-91d1-202376d305e7",
   "metadata": {},
   "outputs": [],
   "source": [
    "data = merge_volatility_data(cvol_data, crsp_data, bond_data)\n",
    "data = data[data['date'].dt.year < 2020]\n",
    "data.columns = [i.replace('_p_', ' ').replace('__', ' - ') for i in data.columns]\n",
    "cols = classify_cols_garch(data)"
   ]
  },
  {
   "cell_type": "code",
   "execution_count": 96,
   "id": "45003c12-f456-4f20-8ede-b6b8e9ad4e8b",
   "metadata": {},
   "outputs": [],
   "source": [
    "aux_tables = []\n",
    "for division, dep_vars in cols.items():\n",
    "    for var in ['vol_vwretd', 'vol_btreturn']:\n",
    "        tables = make_regression_tables(data, dep_vars, var, lag_list, dummies, freq_d, date_var, alpha_test, error_mode, n_btsp, replacements, first_row_for_co)\n",
    "        for t in tables: t.insert(1, 'reg_spec', division + '_' + name_mapping[var])\n",
    "        aux_tables.append(tables)"
   ]
  },
  {
   "cell_type": "code",
   "execution_count": 97,
   "id": "ee67a35b-db8b-44e2-98b7-ee893971c88e",
   "metadata": {},
   "outputs": [],
   "source": [
    "full_tables = pd.concat([item for sublist in aux_tables for item in sublist]).reset_index(drop = True)\n",
    "if save_table: full_tables.to_csv(table_filename, index = False)"
   ]
  },
  {
   "cell_type": "code",
   "execution_count": 98,
   "id": "1633fc63-a125-4616-888a-2c8ca28e5e27",
   "metadata": {},
   "outputs": [
    {
     "data": {
      "text/plain": [
       "0"
      ]
     },
     "execution_count": 98,
     "metadata": {},
     "output_type": "execute_result"
    }
   ],
   "source": [
    "os.system(f'mkdir -p {plot_dir}')"
   ]
  },
  {
   "cell_type": "code",
   "execution_count": 100,
   "id": "fbef21c2-3d63-4817-8e8b-fa5f050fd28b",
   "metadata": {},
   "outputs": [],
   "source": [
    "for reg_spec in full_tables.reg_spec.unique():\n",
    "    plim = [1.1*full_tables[(full_tables.reg_spec == reg_spec)].filter(regex=r'LB').values.min(), \n",
    "            1.1*full_tables[(full_tables.reg_spec == reg_spec)].filter(regex=r'UB').values.max()]\n",
    "    for n_lags in lag_list:\n",
    "        data_plot = full_tables[(full_tables.n_lags == n_lags) & (full_tables.reg_spec == reg_spec)]\n",
    "        save_filename = f'{plot_dir}{reg_spec}_{error_mode}_{n_lags}mo_{freq_d}_dummies_{int(100*alpha_test)}%ci.pdf'\n",
    "        generate_bar_plot(data_plot, n_lags, alpha_test, plim, cols_ci[0], cols_ci[1], dummies, freq_d, save_plot_opt, save_filename, show_opt, separation)"
   ]
  },
  {
   "cell_type": "code",
   "execution_count": null,
   "id": "34222197-5030-4c72-a7fd-69f7bc82754b",
   "metadata": {},
   "outputs": [],
   "source": []
  }
 ],
 "metadata": {
  "kernelspec": {
   "display_name": "Python 3 (ipykernel)",
   "language": "python",
   "name": "python3"
  },
  "language_info": {
   "codemirror_mode": {
    "name": "ipython",
    "version": 3
   },
   "file_extension": ".py",
   "mimetype": "text/x-python",
   "name": "python",
   "nbconvert_exporter": "python",
   "pygments_lexer": "ipython3",
   "version": "3.12.2"
  }
 },
 "nbformat": 4,
 "nbformat_minor": 5
}
